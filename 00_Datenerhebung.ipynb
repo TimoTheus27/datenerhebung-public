{
 "cells": [
  {
   "cell_type": "markdown",
   "metadata": {},
   "source": [
    "# Datenerhebung\n",
    "\n",
    "\n",
    "## Tutorials\n",
    "* R Cheat-Sheet\n",
    "  * https://rstudio.com/wp-content/uploads/2016/10/r-cheat-sheet-3.pdf\n",
    "* Kaggle API – The Missing Python Documentation\n",
    "  * https://technowhisp.com/kaggle-api-python-documentation/\n",
    "* webScraping with R:\n",
    " * https://www.freecodecamp.org/news/an-introduction-to-web-scraping-using-r-40284110c848/\n",
    "* data.world api:\n",
    " * https://data.world/covid-19-data-resource-hub/covid-19-case-counts\n",
    "* how to query apis in R:\n",
    " * https://medium.com/@traffordDataLab/querying-apis-in-r-39029b73d5f1\n",
    "* Python API Tutorial:\n",
    " * https://www.dataquest.io/blog/python-api-tutorial/"
   ]
  },
  {
   "cell_type": "markdown",
   "metadata": {},
   "source": [
    "## Sammlung Datenquellen\n",
    "1. Kaggle Datenquellen Archiv https://www.kaggle.com/datasets\n",
    "2. https://coronavis.dbvis.de/en\n",
    "3. https://github.com/covid19datahub/COVID19\n",
    "4. https://npgeo-corona-npgeo-de.hub.arcgis.com/datasets/917fc37a709542548cc3be077a786c17_0\n",
    "5. data.world api https://data.world/covid-19-data-resource-hub/covid-19-case-counts\n",
    "6. https://ourworldindata.org/coronavirus-data-explorer?yScale=log&zoomToSelection=true&deathsMetric=true&dailyFreq=true&aligned=true&smoothing=7&country=\n",
    "7. COVID-19 UK Historical Data https://github.com/tomwhite/covid-19-uk-data#wishlist\n",
    "8. Covid-19 Complete Dataset (Updated every 24hrs) https://github.com/imdevskp/covid_19_jhu_data_web_scrap_and_cleaning\n",
    "9. Google mobility report: https://www.google.com/covid19/mobility/index.html?hl=en\n",
    "10. United Nations Population Projections: https://population.un.org/wpp/Download/Standard/CSV/\n",
    "11. RKI data: https://npgeo-corona-npgeo-de.hub.arcgis.com/datasets/ef4b445a53c1406892257fe63129a8ea_0/geoservice?"
   ]
  },
  {
   "cell_type": "markdown",
   "metadata": {},
   "source": [
    "## 00 Bereitstellen und Beschreibung der Datenquellen\n",
    "Die in den nächsten Kapiteln beschriebenen Datenquellen sind in einem öffentlichen GIThub Repository veröffenlticht.\n",
    "\n",
    "https://github.com/TimoTheus27/datenerhebung-public\n",
    "\n",
    "Die meisten Daten wurden als CSV eingepflegt, da es meistens keine hoch aktuellen Daten sind. Z.B. Bevölkerungsdichte ist ein Datensatz von 2019, hier werden die Daten nicht regelmäßig akutalisiert und es reicht vermutlich mit dem Datensatz von 2019 zu arbeiten."
   ]
  },
  {
   "cell_type": "markdown",
   "metadata": {},
   "source": [
    "## 01 Automatisierte Anbindung Kaggle Challenge Daten in R\n",
    "In diesem Notebook wird versucht die Daten der Kaggle Challenge via R Library Kaggler zu automatisieren\n",
    "* [Anbindung Kaggle Challenge Daten via kaggler](01_R_Kaggler.ipynb)"
   ]
  },
  {
   "cell_type": "markdown",
   "metadata": {},
   "source": [
    "## 02 Automatisierte Anbindung Kaggle Challenge Daten in Python\n",
    "Hier wird gezeigt wie mit Hilfe der Kaggle API die Datensetz zu der COVID-19 Challenge angebunden werden kann.\n",
    "* [Anbindung Kaggle Challenge Daten via Kaggle API](02_Python_KaggleApi.ipynb)"
   ]
  },
  {
   "cell_type": "markdown",
   "metadata": {},
   "source": [
    "## 03 Zigaretten Konsum (Eher Einfluss auf Sterblichkeitsraten)\n",
    "Dieser Datensatz enthält Daten zum Zigarettenkonsum verschiedener Länder. Dies hat eher Einfluss auf die Sterblichkeit von COVID-19 Infizierten, als das sie Faktoren für die Verbreitung von COVID-19 sind.\n",
    "* [Zigarettenkonsum](03_CigaretteConsumption.ipynb)"
   ]
  },
  {
   "cell_type": "markdown",
   "metadata": {},
   "source": [
    "## 04 DIVI-Intensivregister (Eher Einfluss auf Sterblichkeitsraten)\n",
    "Hier werden Daten zur Intensivbettenauslastung vom 15.05.2020 bis zum 15.06.2020 zusammengefasst und dargestellt.\n",
    "* [Intensivbettenauslastung in Deutschland](04_DIVI-Intensivregister.ipynb)"
   ]
  },
  {
   "cell_type": "markdown",
   "metadata": {},
   "source": [
    "## 05 Sterblichkeitsraten bestimmter Altersgruppen \n",
    "Dieser United Nations Datensatz enthält verschiedene Daten zur Sterblichkeit in bestimmten Bevölkerungsgruppen.\n",
    "* [Sterblichkeitsraten nach Altersgruppen](05_LifeTable.ipynb)"
   ]
  },
  {
   "cell_type": "markdown",
   "metadata": {},
   "source": [
    "## 06 Period Indicators\n",
    "Ebenfalls von den United Nations. Daten über Bevölkerungsentwicklung, wie **Geburtenrate, Lebenserwartug, Sterblichkeit, Bevölkerungswachstum**\n",
    "* [Period Indicators](06_PopulationPeriodIndicators)"
   ]
  },
  {
   "cell_type": "markdown",
   "metadata": {},
   "source": [
    "## 07 Bevölkerungsdichte und Geschlechterverteilung\n",
    "Die Bevölkerungsdichte hat vermutlich einen großen Einfluss auf die Ausbreitung von COVID19. Daten hierzu kommen ebenfalls von den United Nations und sind im folgenden Notebook aufbereitet:\n",
    "* [Bevölkerungsdichte und Geschlechterverteilung](07_PopulationDensity.ipynb)"
   ]
  },
  {
   "cell_type": "markdown",
   "metadata": {},
   "source": [
    "## 08 Google Mobility Report\n",
    "Bewegungstrends von Android Geräten. Verschiedene Locations erfasst.\n",
    "* [Google Mobility Report](08_GoogleMobilityReport.ipynb)"
   ]
  },
  {
   "cell_type": "markdown",
   "metadata": {},
   "source": [
    "## 09 HDI Index der menschlichen Entwicklung und Datengrundlage zu dessen Berechnung\n",
    "Dieser Wohlstandsindikator gibt Aufschluss über die Lebensqualität und Bildungsstandards von bestimmten Ländern.\n",
    "* [Index der menschlichen Entwicklung](09_HDI.ipynb)"
   ]
  }
 ],
 "metadata": {
  "kernelspec": {
   "display_name": "R",
   "language": "R",
   "name": "ir"
  },
  "language_info": {
   "codemirror_mode": "r",
   "file_extension": ".r",
   "mimetype": "text/x-r-source",
   "name": "R",
   "pygments_lexer": "r",
   "version": "4.0.0"
  }
 },
 "nbformat": 4,
 "nbformat_minor": 4
}
