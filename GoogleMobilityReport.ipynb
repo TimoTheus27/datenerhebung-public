{
 "cells": [
  {
   "cell_type": "markdown",
   "metadata": {},
   "source": [
    "# COVID-19 Community Mobility Reports\n",
    "\n",
    "Hier sehen wir Änderugen an Bewegungstrends in verscheinden Kategorien Land für Land.\n",
    "\n",
    "Die Daten stammen aus Google Maps. Sie wurden von Google selbst aufbereitet, annonymisiert und zur Verfügung gestellt.\n",
    "Sie sind keien vollständige Repräsentation der Bevölkerungs-Bewegung, aber geben ausagekräftigen Trend vor, denn\n",
    "2020 umfasst Andorid 78,2% des Marktanteils im Smartphone Markt. Es befinden sich also viele Android Geräte im Umlauf die hier erfasst werden.\n",
    "https://de.statista.com/themen/1355/android/#dossierSummary__chapter2\n",
    "\n",
    "Die gemessenen Veränderungen der Bewegungsmuster könnten einen Einfluss auf die Ausbeitung von COVID-19 haben.\n",
    "Sie zeigen detailliert welche Kategorien von Orten wie häufig besucht werden.\n",
    "\n",
    "Insbesondere Supermärkte und Parks sind Orte an denen viele Menschen zusammenkommen. Dort kann sich das Virus verbreiten, wenn es zum Kontakt mit Infizierten kommt."
   ]
  },
  {
   "cell_type": "code",
   "execution_count": 1,
   "metadata": {},
   "outputs": [
    {
     "name": "stderr",
     "output_type": "stream",
     "text": [
      "/usr/local/anaconda3/lib/python3.7/site-packages/IPython/core/interactiveshell.py:3063: DtypeWarning: Columns (3) have mixed types.Specify dtype option on import or set low_memory=False.\n",
      "  interactivity=interactivity, compiler=compiler, result=result)\n"
     ]
    }
   ],
   "source": [
    "import pandas as pd\n",
    "\n",
    "df = pd.read_csv(\"./data/Global_Mobility_Report.csv\", parse_dates = [\"date\"])"
   ]
  },
  {
   "cell_type": "code",
   "execution_count": 2,
   "metadata": {
    "scrolled": true
   },
   "outputs": [
    {
     "data": {
      "text/html": [
       "<div>\n",
       "<style scoped>\n",
       "    .dataframe tbody tr th:only-of-type {\n",
       "        vertical-align: middle;\n",
       "    }\n",
       "\n",
       "    .dataframe tbody tr th {\n",
       "        vertical-align: top;\n",
       "    }\n",
       "\n",
       "    .dataframe thead th {\n",
       "        text-align: right;\n",
       "    }\n",
       "</style>\n",
       "<table border=\"1\" class=\"dataframe\">\n",
       "  <thead>\n",
       "    <tr style=\"text-align: right;\">\n",
       "      <th></th>\n",
       "      <th>country_region_code</th>\n",
       "      <th>country_region</th>\n",
       "      <th>sub_region_1</th>\n",
       "      <th>sub_region_2</th>\n",
       "      <th>iso_3166_2_code</th>\n",
       "      <th>census_fips_code</th>\n",
       "      <th>date</th>\n",
       "      <th>retail_and_recreation_percent_change_from_baseline</th>\n",
       "      <th>grocery_and_pharmacy_percent_change_from_baseline</th>\n",
       "      <th>parks_percent_change_from_baseline</th>\n",
       "      <th>transit_stations_percent_change_from_baseline</th>\n",
       "      <th>workplaces_percent_change_from_baseline</th>\n",
       "      <th>residential_percent_change_from_baseline</th>\n",
       "    </tr>\n",
       "  </thead>\n",
       "  <tbody>\n",
       "    <tr>\n",
       "      <th>0</th>\n",
       "      <td>AE</td>\n",
       "      <td>United Arab Emirates</td>\n",
       "      <td>NaN</td>\n",
       "      <td>NaN</td>\n",
       "      <td>NaN</td>\n",
       "      <td>NaN</td>\n",
       "      <td>2020-02-15</td>\n",
       "      <td>0.0</td>\n",
       "      <td>4.0</td>\n",
       "      <td>5.0</td>\n",
       "      <td>0.0</td>\n",
       "      <td>2.0</td>\n",
       "      <td>1.0</td>\n",
       "    </tr>\n",
       "    <tr>\n",
       "      <th>1</th>\n",
       "      <td>AE</td>\n",
       "      <td>United Arab Emirates</td>\n",
       "      <td>NaN</td>\n",
       "      <td>NaN</td>\n",
       "      <td>NaN</td>\n",
       "      <td>NaN</td>\n",
       "      <td>2020-02-16</td>\n",
       "      <td>1.0</td>\n",
       "      <td>4.0</td>\n",
       "      <td>4.0</td>\n",
       "      <td>1.0</td>\n",
       "      <td>2.0</td>\n",
       "      <td>1.0</td>\n",
       "    </tr>\n",
       "    <tr>\n",
       "      <th>2</th>\n",
       "      <td>AE</td>\n",
       "      <td>United Arab Emirates</td>\n",
       "      <td>NaN</td>\n",
       "      <td>NaN</td>\n",
       "      <td>NaN</td>\n",
       "      <td>NaN</td>\n",
       "      <td>2020-02-17</td>\n",
       "      <td>-1.0</td>\n",
       "      <td>1.0</td>\n",
       "      <td>5.0</td>\n",
       "      <td>1.0</td>\n",
       "      <td>2.0</td>\n",
       "      <td>1.0</td>\n",
       "    </tr>\n",
       "    <tr>\n",
       "      <th>3</th>\n",
       "      <td>AE</td>\n",
       "      <td>United Arab Emirates</td>\n",
       "      <td>NaN</td>\n",
       "      <td>NaN</td>\n",
       "      <td>NaN</td>\n",
       "      <td>NaN</td>\n",
       "      <td>2020-02-18</td>\n",
       "      <td>-2.0</td>\n",
       "      <td>1.0</td>\n",
       "      <td>5.0</td>\n",
       "      <td>0.0</td>\n",
       "      <td>2.0</td>\n",
       "      <td>1.0</td>\n",
       "    </tr>\n",
       "    <tr>\n",
       "      <th>4</th>\n",
       "      <td>AE</td>\n",
       "      <td>United Arab Emirates</td>\n",
       "      <td>NaN</td>\n",
       "      <td>NaN</td>\n",
       "      <td>NaN</td>\n",
       "      <td>NaN</td>\n",
       "      <td>2020-02-19</td>\n",
       "      <td>-2.0</td>\n",
       "      <td>0.0</td>\n",
       "      <td>4.0</td>\n",
       "      <td>-1.0</td>\n",
       "      <td>2.0</td>\n",
       "      <td>1.0</td>\n",
       "    </tr>\n",
       "  </tbody>\n",
       "</table>\n",
       "</div>"
      ],
      "text/plain": [
       "  country_region_code        country_region sub_region_1 sub_region_2  \\\n",
       "0                  AE  United Arab Emirates          NaN          NaN   \n",
       "1                  AE  United Arab Emirates          NaN          NaN   \n",
       "2                  AE  United Arab Emirates          NaN          NaN   \n",
       "3                  AE  United Arab Emirates          NaN          NaN   \n",
       "4                  AE  United Arab Emirates          NaN          NaN   \n",
       "\n",
       "  iso_3166_2_code  census_fips_code       date  \\\n",
       "0             NaN               NaN 2020-02-15   \n",
       "1             NaN               NaN 2020-02-16   \n",
       "2             NaN               NaN 2020-02-17   \n",
       "3             NaN               NaN 2020-02-18   \n",
       "4             NaN               NaN 2020-02-19   \n",
       "\n",
       "   retail_and_recreation_percent_change_from_baseline  \\\n",
       "0                                                0.0    \n",
       "1                                                1.0    \n",
       "2                                               -1.0    \n",
       "3                                               -2.0    \n",
       "4                                               -2.0    \n",
       "\n",
       "   grocery_and_pharmacy_percent_change_from_baseline  \\\n",
       "0                                                4.0   \n",
       "1                                                4.0   \n",
       "2                                                1.0   \n",
       "3                                                1.0   \n",
       "4                                                0.0   \n",
       "\n",
       "   parks_percent_change_from_baseline  \\\n",
       "0                                 5.0   \n",
       "1                                 4.0   \n",
       "2                                 5.0   \n",
       "3                                 5.0   \n",
       "4                                 4.0   \n",
       "\n",
       "   transit_stations_percent_change_from_baseline  \\\n",
       "0                                            0.0   \n",
       "1                                            1.0   \n",
       "2                                            1.0   \n",
       "3                                            0.0   \n",
       "4                                           -1.0   \n",
       "\n",
       "   workplaces_percent_change_from_baseline  \\\n",
       "0                                      2.0   \n",
       "1                                      2.0   \n",
       "2                                      2.0   \n",
       "3                                      2.0   \n",
       "4                                      2.0   \n",
       "\n",
       "   residential_percent_change_from_baseline  \n",
       "0                                       1.0  \n",
       "1                                       1.0  \n",
       "2                                       1.0  \n",
       "3                                       1.0  \n",
       "4                                       1.0  "
      ]
     },
     "execution_count": 2,
     "metadata": {},
     "output_type": "execute_result"
    }
   ],
   "source": [
    "df.head()"
   ]
  },
  {
   "cell_type": "code",
   "execution_count": 3,
   "metadata": {
    "scrolled": true
   },
   "outputs": [
    {
     "name": "stdout",
     "output_type": "stream",
     "text": [
      "First date: 2020-02-15 00:00:00\n",
      "Last date: 2020-06-14 00:00:00\n"
     ]
    }
   ],
   "source": [
    "a = df.date.value_counts().sort_index()\n",
    "print('First date:',a.index[0])\n",
    "print('Last date:',a.index[-1])"
   ]
  },
  {
   "cell_type": "code",
   "execution_count": 4,
   "metadata": {},
   "outputs": [
    {
     "name": "stdout",
     "output_type": "stream",
     "text": [
      "<class 'pandas.core.frame.DataFrame'>\n",
      "RangeIndex: 547922 entries, 0 to 547921\n",
      "Data columns (total 13 columns):\n",
      " #   Column                                              Non-Null Count   Dtype         \n",
      "---  ------                                              --------------   -----         \n",
      " 0   country_region_code                                 546981 non-null  object        \n",
      " 1   country_region                                      547922 non-null  object        \n",
      " 2   sub_region_1                                        531587 non-null  object        \n",
      " 3   sub_region_2                                        316625 non-null  object        \n",
      " 4   iso_3166_2_code                                     198752 non-null  object        \n",
      " 5   census_fips_code                                    316746 non-null  float64       \n",
      " 6   date                                                547922 non-null  datetime64[ns]\n",
      " 7   retail_and_recreation_percent_change_from_baseline  423131 non-null  float64       \n",
      " 8   grocery_and_pharmacy_percent_change_from_baseline   406061 non-null  float64       \n",
      " 9   parks_percent_change_from_baseline                  252128 non-null  float64       \n",
      " 10  transit_stations_percent_change_from_baseline       292057 non-null  float64       \n",
      " 11  workplaces_percent_change_from_baseline             534124 non-null  float64       \n",
      " 12  residential_percent_change_from_baseline            302313 non-null  float64       \n",
      "dtypes: datetime64[ns](1), float64(7), object(5)\n",
      "memory usage: 54.3+ MB\n"
     ]
    }
   ],
   "source": [
    "df.info()"
   ]
  },
  {
   "cell_type": "markdown",
   "metadata": {},
   "source": [
    "## Kategorien\n",
    "Die Daten sind in 5 verschiedene Kategorien gruppiert:\n",
    "* Grocery & pharmacy\n",
    "* Parks\n",
    "* Retail & recreation\n",
    "* Residential\n",
    "* Workplaces\n",
    "\n",
    "## Baseline-Wert\n",
    "\n",
    "Der Baseline-Wert ist der Median Wert eines Tages in der 5 wöchigen Periode vom 03.01.2020 bis zum 06.02.2020.\n",
    "Sollte also in einer Region etwas passiert sein, was einfluss auf die beobachteten Werte hat, könnte die Baseline verfälscht sein. Außerdem ist es möglich das bestimmte aktivitäten auch ohen Einfluss von COVID-19 zu oder abnehmen.\n",
    "\n",
    "Dazu gibt es eine Checklist von Google.\n",
    "\n",
    "https://support.google.com/covid19-mobility/checklist/9834261\n"
   ]
  }
 ],
 "metadata": {
  "kernelspec": {
   "display_name": "Python 3",
   "language": "python",
   "name": "python3"
  },
  "language_info": {
   "codemirror_mode": {
    "name": "ipython",
    "version": 3
   },
   "file_extension": ".py",
   "mimetype": "text/x-python",
   "name": "python",
   "nbconvert_exporter": "python",
   "pygments_lexer": "ipython3",
   "version": "3.7.1"
  }
 },
 "nbformat": 4,
 "nbformat_minor": 4
}
