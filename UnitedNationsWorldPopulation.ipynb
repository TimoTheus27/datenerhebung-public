{
 "cells": [
  {
   "cell_type": "markdown",
   "metadata": {},
   "source": [
    "# United Nations World Population\n",
    "\n",
    "\n",
    "## Daten\n",
    "Die Daten enthalten interessante Faktoren die eine relevante Rolle in der Corona Verbreitungsgeschwindigkeit spielen könnten. \n",
    "\n",
    "Die Daten können einfach als CSV von der UN-Website heruntergeladen werden:\n",
    "https://population.un.org/wpp/Download/Standard/CSV/\n",
    "\n",
    "### Total Population\n",
    "Insbesondere die PopulationDensity könnte hier interessant sein.\n",
    "\n",
    "Total population by sex, annually from 1950 to 2100.\n",
    "* PopMale: Total male population (thousands)\n",
    "* PopFemale: Total female population (thousands)\n",
    "* PopTotal: Total population, both sexes (thousands)\n",
    "* **PopDensity: Population per square kilometre (thousands)**\n",
    "\n",
    "### Life Table\n",
    "Möglicherweise haben auch mögliche bereits vor Corona erhöte Sterblichkeitraten einen Einfluss auf die Conronaausbreitung.\n",
    "\n",
    "Abridged life tables up to age 100 by sex and both sexes combined providing a set of values showing the mortality experience of a hypothetical group of infants born at the same time and subject throughout their lifetime to the specific mortality rates of a given period, from 1950-1955 to 2095-2100.\n",
    "* **mx: Central death rate, nmx, for the age interval (x, x+n)**\n",
    "* **qx: Probability of dying (nqx), for an individual between age x and x+n**\n",
    "* px: Probability of surviving, (npx), for an individual of age x to age x+n\n",
    "* lx: Number of survivors, (lx), at age (x) for 100000 births\n",
    "* **dx: Number of deaths, (ndx), between ages x and x+n**\n",
    "* Lx: Number of person-years lived, (nLx), between ages x and x+n\n",
    "* Sx: Survival ratio (nSx) corresponding to proportion of the life table population in age group (x, x+n) who are alive n year later\n",
    "* Tx: Person-years lived, (Tx), above age x\n",
    "* ex: Expectation of life (ex) at age x, i.e., average number of years lived subsequent to age x by those reaching age x\n",
    "* ax: Average number of years lived (nax) between ages x and x+n by those dying in the interval\n",
    "\n",
    "\n",
    "### Population by Age and Sex\n",
    "Das Durchschnittsalter könnte eine Rolle in der Coronaausbreitung spielen.\n",
    "\n",
    "Population interpolated by single age and single year.\n",
    "* PopMale: Male population for the individual age (thousands)\n",
    "* PopFemale: Female population for the individual age (thousands)\n",
    "* **PopTotal: Total population for the individual age (thousands)**"
   ]
  },
  {
   "cell_type": "code",
   "execution_count": null,
   "metadata": {},
   "outputs": [],
   "source": []
  }
 ],
 "metadata": {
  "kernelspec": {
   "display_name": "Python 3",
   "language": "python",
   "name": "python3"
  },
  "language_info": {
   "codemirror_mode": {
    "name": "ipython",
    "version": 3
   },
   "file_extension": ".py",
   "mimetype": "text/x-python",
   "name": "python",
   "nbconvert_exporter": "python",
   "pygments_lexer": "ipython3",
   "version": "3.7.1"
  }
 },
 "nbformat": 4,
 "nbformat_minor": 4
}
