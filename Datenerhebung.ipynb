{
 "cells": [
  {
   "cell_type": "markdown",
   "metadata": {},
   "source": [
    "# 01Datenerhebung - Übersicht\n",
    "\n",
    "## ToDos\n",
    "\n",
    "1. Anbindung Kaggle Challenge Daten:\n",
    "    * [x] https://github.com/mkearney/kaggler\n",
    "      * **funktioniert nicht**\n",
    "    * https://gist.github.com/nonsleepr/146e247f40ffb0ce3281 \n",
    "      * via api\n",
    "2. API Anbindung in R:\n",
    "    * how to query apis in R:\n",
    "     * https://medium.com/@traffordDataLab/querying-apis-in-r-39029b73d5f1\n",
    "3. Anbindung von Datenquellen:\n",
    "    * data.world api:\n",
    "     * https://data.world/covid-19-data-resource-hub/covid-19-case-counts\n",
    "    * RKI api:\n",
    "     * https://npgeo-corona-npgeo-de.hub.arcgis.com/datasets/ef4b445a53c1406892257fe63129a8ea_0/geoservice?geometry=-29.050%2C46.270%2C45.306%2C55.886\n",
    "4. WebScraping:\n",
    "    * webScraping with R:\n",
    "     * https://www.freecodecamp.org/news/an-introduction-to-web-scraping-using-r-40284110c848/\n",
    "\n",
    "\n",
    "## Nützliche Links\n",
    "* R Cheat-Sheet\n",
    " * https://rstudio.com/wp-content/uploads/2016/10/r-cheat-sheet-3.pdf\n",
    "\n",
    "\n",
    "## gefordertes Format\n",
    "\n",
    "* csv"
   ]
  },
  {
   "cell_type": "code",
   "execution_count": null,
   "metadata": {},
   "outputs": [],
   "source": []
  }
 ],
 "metadata": {
  "kernelspec": {
   "display_name": "R",
   "language": "R",
   "name": "ir"
  },
  "language_info": {
   "codemirror_mode": "r",
   "file_extension": ".r",
   "mimetype": "text/x-r-source",
   "name": "R",
   "pygments_lexer": "r",
   "version": "4.0.0"
  }
 },
 "nbformat": 4,
 "nbformat_minor": 4
}
