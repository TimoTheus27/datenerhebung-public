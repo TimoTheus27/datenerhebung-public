{
 "cells": [
  {
   "cell_type": "markdown",
   "metadata": {},
   "source": [
    "# 01 Datenerhebung - Übersicht\n",
    "\n",
    "\n",
    "## Nützliche Links\n",
    "* R Cheat-Sheet\n",
    "  * https://rstudio.com/wp-content/uploads/2016/10/r-cheat-sheet-3.pdf\n",
    "* Kaggle API – The Missing Python Documentation\n",
    "  * https://technowhisp.com/kaggle-api-python-documentation/\n",
    "* webScraping with R:\n",
    " * https://www.freecodecamp.org/news/an-introduction-to-web-scraping-using-r-40284110c848/\n",
    "* data.world api:\n",
    " * https://data.world/covid-19-data-resource-hub/covid-19-case-counts\n",
    "* RKI api:\n",
    " * https://npgeo-corona-npgeo-de.hub.arcgis.com/datasets/ef4b445a53c1406892257fe63129a8ea_0/geoservice?\n",
    "* how to query apis in R:\n",
    " * https://medium.com/@traffordDataLab/querying-apis-in-r-39029b73d5f1"
   ]
  },
  {
   "cell_type": "markdown",
   "metadata": {},
   "source": [
    "# 02 Datenquellen\n",
    "\n",
    "Kaggle Datenquellen Archiv https://www.kaggle.com/datasets\n",
    "\n",
    "1. https://coronavis.dbvis.de/en\n",
    "2. https://github.com/covid19datahub/COVID19\n",
    "3. https://npgeo-corona-npgeo-de.hub.arcgis.com/datasets/917fc37a709542548cc3be077a786c17_0\n",
    "4. https://data.world/covid-19-data-resource-hub/covid-19-case-counts\n",
    "5. https://ourworldindata.org/coronavirus-data-explorer?yScale=log&zoomToSelection=true&deathsMetric=true&dailyFreq=true&aligned=true&smoothing=7&country=\n",
    "6. COVID-19 UK Historical Data https://github.com/tomwhite/covid-19-uk-data#wishlist\n",
    "7. Covid-19 Complete Dataset (Updated every 24hrs) https://github.com/imdevskp/covid_19_jhu_data_web_scrap_and_cleaning\n",
    "8. Google mobility report: https://www.google.com/covid19/mobility/index.html?hl=en\n",
    "9. United Nations Population Projections: https://population.un.org/wpp/Download/Standard/CSV/\n",
    "10. RKI data: https://npgeo-corona-npgeo-de.hub.arcgis.com/datasets/ef4b445a53c1406892257fe63129a8ea_0/geoservice?\n",
    "\n",
    "\n",
    "## Raucher-Rate / Land\n",
    "\n",
    "Möglicherweise Einfluss auf die Sterblichkeitsrate.\n",
    "\n",
    "* https://ourworldindata.org/smoking\n",
    "\n",
    "## Bevölkerungsdichte / Land oder Bundesland\n",
    "\n",
    "Vermutlich Einfluss auf die Verbreitung. \n",
    "\n",
    "## United Nations Population Projections\n",
    "\n",
    "Historische Daten und projektions auf bestimmte Bevölkerungsentwicklungen.\n"
   ]
  },
  {
   "cell_type": "code",
   "execution_count": null,
   "metadata": {},
   "outputs": [],
   "source": []
  }
 ],
 "metadata": {
  "kernelspec": {
   "display_name": "R",
   "language": "R",
   "name": "ir"
  },
  "language_info": {
   "codemirror_mode": "r",
   "file_extension": ".r",
   "mimetype": "text/x-r-source",
   "name": "R",
   "pygments_lexer": "r",
   "version": "4.0.0"
  }
 },
 "nbformat": 4,
 "nbformat_minor": 4
}
