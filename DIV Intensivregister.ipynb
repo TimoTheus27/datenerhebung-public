{
 "cells": [
  {
   "cell_type": "markdown",
   "metadata": {},
   "source": [
    "# DIV Intensivregister\n",
    "\n",
    "Enthält Daten zu den deutschen aktuellen Intensivkapazitäten."
   ]
  },
  {
   "cell_type": "markdown",
   "metadata": {},
   "source": [
    "Die Daten stehen für jeden Tag **seperat** zum Download bereit.\n",
    "\n",
    "https://www.divi.de/divi-intensivregister-tagesreport-archiv/?limit=30&limitstart=0\n",
    "\n",
    "## Beispiel **DIVI-Intensivregister_2020-05-15.csv**"
   ]
  },
  {
   "cell_type": "code",
   "execution_count": 1,
   "metadata": {},
   "outputs": [
    {
     "data": {
      "text/html": [
       "<div>\n",
       "<style scoped>\n",
       "    .dataframe tbody tr th:only-of-type {\n",
       "        vertical-align: middle;\n",
       "    }\n",
       "\n",
       "    .dataframe tbody tr th {\n",
       "        vertical-align: top;\n",
       "    }\n",
       "\n",
       "    .dataframe thead th {\n",
       "        text-align: right;\n",
       "    }\n",
       "</style>\n",
       "<table border=\"1\" class=\"dataframe\">\n",
       "  <thead>\n",
       "    <tr style=\"text-align: right;\">\n",
       "      <th></th>\n",
       "      <th>bundesland</th>\n",
       "      <th>gemeindeschluessel</th>\n",
       "      <th>anzahl_meldebereiche</th>\n",
       "      <th>faelle_covid_aktuell</th>\n",
       "      <th>faelle_covid_aktuell_beatmet</th>\n",
       "      <th>anzahl_standorte</th>\n",
       "      <th>betten_frei</th>\n",
       "      <th>betten_belegt</th>\n",
       "      <th>daten_stand</th>\n",
       "    </tr>\n",
       "  </thead>\n",
       "  <tbody>\n",
       "    <tr>\n",
       "      <th>0</th>\n",
       "      <td>1</td>\n",
       "      <td>1001</td>\n",
       "      <td>2</td>\n",
       "      <td>1</td>\n",
       "      <td>1</td>\n",
       "      <td>2</td>\n",
       "      <td>50</td>\n",
       "      <td>35</td>\n",
       "      <td>2020-05-15 09:15:00</td>\n",
       "    </tr>\n",
       "    <tr>\n",
       "      <th>1</th>\n",
       "      <td>1</td>\n",
       "      <td>1002</td>\n",
       "      <td>5</td>\n",
       "      <td>2</td>\n",
       "      <td>1</td>\n",
       "      <td>3</td>\n",
       "      <td>121</td>\n",
       "      <td>120</td>\n",
       "      <td>2020-05-15 09:15:00</td>\n",
       "    </tr>\n",
       "    <tr>\n",
       "      <th>2</th>\n",
       "      <td>1</td>\n",
       "      <td>1003</td>\n",
       "      <td>2</td>\n",
       "      <td>2</td>\n",
       "      <td>2</td>\n",
       "      <td>2</td>\n",
       "      <td>111</td>\n",
       "      <td>112</td>\n",
       "      <td>2020-05-15 09:15:00</td>\n",
       "    </tr>\n",
       "    <tr>\n",
       "      <th>3</th>\n",
       "      <td>1</td>\n",
       "      <td>1004</td>\n",
       "      <td>1</td>\n",
       "      <td>0</td>\n",
       "      <td>0</td>\n",
       "      <td>1</td>\n",
       "      <td>20</td>\n",
       "      <td>20</td>\n",
       "      <td>2020-05-15 09:15:00</td>\n",
       "    </tr>\n",
       "    <tr>\n",
       "      <th>4</th>\n",
       "      <td>1</td>\n",
       "      <td>1051</td>\n",
       "      <td>1</td>\n",
       "      <td>2</td>\n",
       "      <td>2</td>\n",
       "      <td>1</td>\n",
       "      <td>56</td>\n",
       "      <td>31</td>\n",
       "      <td>2020-05-15 09:15:00</td>\n",
       "    </tr>\n",
       "  </tbody>\n",
       "</table>\n",
       "</div>"
      ],
      "text/plain": [
       "   bundesland  gemeindeschluessel  anzahl_meldebereiche  faelle_covid_aktuell  \\\n",
       "0           1                1001                     2                     1   \n",
       "1           1                1002                     5                     2   \n",
       "2           1                1003                     2                     2   \n",
       "3           1                1004                     1                     0   \n",
       "4           1                1051                     1                     2   \n",
       "\n",
       "   faelle_covid_aktuell_beatmet  anzahl_standorte  betten_frei  betten_belegt  \\\n",
       "0                             1                 2           50             35   \n",
       "1                             1                 3          121            120   \n",
       "2                             2                 2          111            112   \n",
       "3                             0                 1           20             20   \n",
       "4                             2                 1           56             31   \n",
       "\n",
       "          daten_stand  \n",
       "0 2020-05-15 09:15:00  \n",
       "1 2020-05-15 09:15:00  \n",
       "2 2020-05-15 09:15:00  \n",
       "3 2020-05-15 09:15:00  \n",
       "4 2020-05-15 09:15:00  "
      ]
     },
     "execution_count": 1,
     "metadata": {},
     "output_type": "execute_result"
    }
   ],
   "source": [
    "import pandas as pd\n",
    "\n",
    "df = pd.read_csv('./data/div-intensivregister/DIVI-Intensivregister_2020-05-15.csv', parse_dates = ['daten_stand'])\n",
    "df.head()"
   ]
  },
  {
   "cell_type": "markdown",
   "metadata": {},
   "source": [
    "## Download\n",
    "\n",
    "Die Daten wurden aktuell händisch heruntergeladen und in `./data/div-intensivregister/` abgelegt.\n",
    "\n",
    "Zunkünfitg müsste man hier einen Webcrawler bauen und die links zum download aus der Website extrahieren und programmatisch aufrufen."
   ]
  },
  {
   "cell_type": "markdown",
   "metadata": {},
   "source": [
    "## Zusammenfassen zu einem CSV\n",
    "\n",
    "### Imports und in das richtige Verzeichnis wechseln."
   ]
  },
  {
   "cell_type": "code",
   "execution_count": 2,
   "metadata": {},
   "outputs": [],
   "source": [
    "import os\n",
    "import glob\n",
    "\n",
    "os.chdir('./data/div-intensivregister/')"
   ]
  },
  {
   "cell_type": "markdown",
   "metadata": {},
   "source": [
    "### Einlesend der Dateinamen"
   ]
  },
  {
   "cell_type": "code",
   "execution_count": 3,
   "metadata": {},
   "outputs": [],
   "source": [
    "extension = 'csv'\n",
    "all_filenames = [i for i in glob.glob('*.{}'.format(extension))]"
   ]
  },
  {
   "cell_type": "markdown",
   "metadata": {},
   "source": [
    "### Dateinamen-Array durchlaufen und alle CSVs zusammenfassen"
   ]
  },
  {
   "cell_type": "code",
   "execution_count": 4,
   "metadata": {},
   "outputs": [],
   "source": [
    "combined_csv = pd.concat([pd.read_csv(f) for f in all_filenames ])"
   ]
  },
  {
   "cell_type": "markdown",
   "metadata": {},
   "source": [
    "### DataFrame als CSV schreiben"
   ]
  },
  {
   "cell_type": "code",
   "execution_count": 5,
   "metadata": {},
   "outputs": [],
   "source": [
    "combined_csv.to_csv( \"div_15_05_till_15_06.csv\", index=False, encoding='utf-8-sig')\n",
    "os.chdir('../../')"
   ]
  },
  {
   "cell_type": "markdown",
   "metadata": {},
   "source": [
    "### CSV einlesen und validieren"
   ]
  },
  {
   "cell_type": "code",
   "execution_count": 6,
   "metadata": {},
   "outputs": [
    {
     "data": {
      "text/html": [
       "<div>\n",
       "<style scoped>\n",
       "    .dataframe tbody tr th:only-of-type {\n",
       "        vertical-align: middle;\n",
       "    }\n",
       "\n",
       "    .dataframe tbody tr th {\n",
       "        vertical-align: top;\n",
       "    }\n",
       "\n",
       "    .dataframe thead th {\n",
       "        text-align: right;\n",
       "    }\n",
       "</style>\n",
       "<table border=\"1\" class=\"dataframe\">\n",
       "  <thead>\n",
       "    <tr style=\"text-align: right;\">\n",
       "      <th></th>\n",
       "      <th>bundesland</th>\n",
       "      <th>gemeindeschluessel</th>\n",
       "      <th>anzahl_meldebereiche</th>\n",
       "      <th>faelle_covid_aktuell</th>\n",
       "      <th>faelle_covid_aktuell_beatmet</th>\n",
       "      <th>anzahl_standorte</th>\n",
       "      <th>betten_frei</th>\n",
       "      <th>betten_belegt</th>\n",
       "      <th>daten_stand</th>\n",
       "    </tr>\n",
       "  </thead>\n",
       "  <tbody>\n",
       "    <tr>\n",
       "      <th>0</th>\n",
       "      <td>1</td>\n",
       "      <td>1001</td>\n",
       "      <td>2</td>\n",
       "      <td>0</td>\n",
       "      <td>0</td>\n",
       "      <td>2</td>\n",
       "      <td>51</td>\n",
       "      <td>28</td>\n",
       "      <td>2020-06-02 09:15:00</td>\n",
       "    </tr>\n",
       "    <tr>\n",
       "      <th>1</th>\n",
       "      <td>1</td>\n",
       "      <td>1002</td>\n",
       "      <td>5</td>\n",
       "      <td>0</td>\n",
       "      <td>0</td>\n",
       "      <td>3</td>\n",
       "      <td>145</td>\n",
       "      <td>111</td>\n",
       "      <td>2020-06-02 09:15:00</td>\n",
       "    </tr>\n",
       "    <tr>\n",
       "      <th>2</th>\n",
       "      <td>1</td>\n",
       "      <td>1003</td>\n",
       "      <td>2</td>\n",
       "      <td>0</td>\n",
       "      <td>0</td>\n",
       "      <td>2</td>\n",
       "      <td>126</td>\n",
       "      <td>117</td>\n",
       "      <td>2020-06-02 09:15:00</td>\n",
       "    </tr>\n",
       "    <tr>\n",
       "      <th>3</th>\n",
       "      <td>1</td>\n",
       "      <td>1004</td>\n",
       "      <td>1</td>\n",
       "      <td>0</td>\n",
       "      <td>0</td>\n",
       "      <td>1</td>\n",
       "      <td>20</td>\n",
       "      <td>20</td>\n",
       "      <td>2020-06-02 09:15:00</td>\n",
       "    </tr>\n",
       "    <tr>\n",
       "      <th>4</th>\n",
       "      <td>1</td>\n",
       "      <td>1051</td>\n",
       "      <td>1</td>\n",
       "      <td>2</td>\n",
       "      <td>2</td>\n",
       "      <td>1</td>\n",
       "      <td>21</td>\n",
       "      <td>35</td>\n",
       "      <td>2020-06-02 09:15:00</td>\n",
       "    </tr>\n",
       "  </tbody>\n",
       "</table>\n",
       "</div>"
      ],
      "text/plain": [
       "   bundesland  gemeindeschluessel  anzahl_meldebereiche  faelle_covid_aktuell  \\\n",
       "0           1                1001                     2                     0   \n",
       "1           1                1002                     5                     0   \n",
       "2           1                1003                     2                     0   \n",
       "3           1                1004                     1                     0   \n",
       "4           1                1051                     1                     2   \n",
       "\n",
       "   faelle_covid_aktuell_beatmet  anzahl_standorte  betten_frei  betten_belegt  \\\n",
       "0                             0                 2           51             28   \n",
       "1                             0                 3          145            111   \n",
       "2                             0                 2          126            117   \n",
       "3                             0                 1           20             20   \n",
       "4                             2                 1           21             35   \n",
       "\n",
       "          daten_stand  \n",
       "0 2020-06-02 09:15:00  \n",
       "1 2020-06-02 09:15:00  \n",
       "2 2020-06-02 09:15:00  \n",
       "3 2020-06-02 09:15:00  \n",
       "4 2020-06-02 09:15:00  "
      ]
     },
     "execution_count": 6,
     "metadata": {},
     "output_type": "execute_result"
    }
   ],
   "source": [
    "dfCombined = pd.read_csv('./data/div-intensivregister/div_15_05_till_15_06.csv', parse_dates = ['daten_stand'])\n",
    "dfCombined.head()"
   ]
  },
  {
   "cell_type": "code",
   "execution_count": 7,
   "metadata": {},
   "outputs": [
    {
     "name": "stdout",
     "output_type": "stream",
     "text": [
      "Das erste Datum: 2020-05-15 09:15:00\n",
      "Das letzte Datum: 2020-06-15 09:15:00\n"
     ]
    }
   ],
   "source": [
    "a = dfCombined.daten_stand.value_counts().sort_index()\n",
    "print('Das erste Datum:',a.index[0])\n",
    "print('Das letzte Datum:',a.index[-1])"
   ]
  }
 ],
 "metadata": {
  "kernelspec": {
   "display_name": "Python 3",
   "language": "python",
   "name": "python3"
  },
  "language_info": {
   "codemirror_mode": {
    "name": "ipython",
    "version": 3
   },
   "file_extension": ".py",
   "mimetype": "text/x-python",
   "name": "python",
   "nbconvert_exporter": "python",
   "pygments_lexer": "ipython3",
   "version": "3.7.1"
  }
 },
 "nbformat": 4,
 "nbformat_minor": 4
}
